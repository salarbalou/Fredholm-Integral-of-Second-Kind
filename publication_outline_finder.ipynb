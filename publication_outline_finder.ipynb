{
  "nbformat": 4,
  "nbformat_minor": 0,
  "metadata": {
    "colab": {
      "name": "publication_outline_finder.ipynb",
      "provenance": [],
      "collapsed_sections": [],
      "authorship_tag": "ABX9TyOPCbLykGMAK374gfJ1f6qv",
      "include_colab_link": true
    },
    "kernelspec": {
      "name": "python3",
      "display_name": "Python 3"
    },
    "language_info": {
      "name": "python"
    }
  },
  "cells": [
    {
      "cell_type": "markdown",
      "metadata": {
        "id": "view-in-github",
        "colab_type": "text"
      },
      "source": [
        "<a href=\"https://colab.research.google.com/github/salarbalou/Fredholm-Integral-of-Second-Kind/blob/main/publication_outline_finder.ipynb\" target=\"_parent\"><img src=\"https://colab.research.google.com/assets/colab-badge.svg\" alt=\"Open In Colab\"/></a>"
      ]
    },
    {
      "cell_type": "code",
      "source": [
        "!pip install selenium\n",
        "!apt-get update # to update ubuntu to correctly run apt install\n",
        "!apt install chromium-chromedriver\n",
        "!cp /usr/lib/chromium-browser/chromedriver /usr/bin\n",
        "import sys\n",
        "sys.path.insert(0,'/usr/lib/chromium-browser/chromedriver')\n",
        "from selenium import webdriver\n",
        "chrome_options = webdriver.ChromeOptions()\n",
        "chrome_options.add_argument('--headless')\n",
        "chrome_options.add_argument('--no-sandbox')\n",
        "chrome_options.add_argument('--disable-dev-shm-usage')\n",
        "wd = webdriver.Chrome('chromedriver',chrome_options=chrome_options)\n",
        "from bs4 import BeautifulSoup\n",
        "import pandas as pd\n",
        "import re\n",
        "import numpy as np\n",
        "import matplotlib.pyplot as plt"
      ],
      "metadata": {
        "id": "DDHwpH6J8fzn"
      },
      "execution_count": null,
      "outputs": []
    },
    {
      "cell_type": "code",
      "source": [
        "baseurl = 'https://scholar.google.com/scholar?as_ylo='\n",
        "#for number of review papers use: \n",
        "char_rev = '&hl=en&as_sdt=0,36&as_rr=1'\n",
        "#for all publications use: \n",
        "char_all = '&hl=en&as_sdt=0,36'"
      ],
      "metadata": {
        "id": "anhgDTqAFSzl"
      },
      "execution_count": 2,
      "outputs": []
    },
    {
      "cell_type": "code",
      "source": [
        "# Year of Publication, and keyword with quotation marks\n",
        "keys = '\"photothermal\"'"
      ],
      "metadata": {
        "id": "kKzVWTNvLvUM"
      },
      "execution_count": 20,
      "outputs": []
    },
    {
      "cell_type": "code",
      "source": [
        "years = ['2017', '2018', '2019', '2020', '2021','2022']\n",
        "nump = []\n",
        "for year in years:\n",
        " wd.get(baseurl+year+'&q='+keys+char_rev)\n",
        " content = wd.page_source\n",
        " soup = BeautifulSoup(content)\n",
        " pubn = soup.findAll('div', {'class':'gs_ab_mdw'})[1].text\n",
        " n = re.compile(r'^About+\\s([0-9,]+)+\\s+results+\\s+', re.MULTILINE)\n",
        " res = n.findall(pubn); newi = [i.split(',') for i in res]\n",
        " base = len(newi[0])\n",
        " if  (base  == 3):\n",
        "   npub = newi[0][0]+newi[0][1]+newi[0][2]\n",
        " if (base == 2):\n",
        "   npub = newi[0][0]+newi[0][1]\n",
        " elif (base == 1):\n",
        "   npub = newi[0][0]\n",
        " nump.append(int(npub))\n",
        " eachyear = [nump[i] - nump[i+1] for i in range(len(nump)-1)]\n",
        " eachyear.append(nump[-1])"
      ],
      "metadata": {
        "id": "3zOrf7wPAFp1"
      },
      "execution_count": 21,
      "outputs": []
    },
    {
      "cell_type": "code",
      "source": [
        "df = pd.DataFrame({'Number of Publications' : eachyear, 'Year': np.linspace(2017, 2022, 6)})\n",
        "ax = df.plot(kind = 'bar', x = 'Year', y = 'Number of Publications', figsize = (10, 5), title = f'Keyword:{keys}', fontsize = 12)\n",
        "print(df)\n",
        "print(ax)"
      ],
      "metadata": {
        "colab": {
          "base_uri": "https://localhost:8080/",
          "height": 520
        },
        "id": "T1xFDJVLZ0AP",
        "outputId": "9b9fee6e-b94d-49d8-8905-8eaca004d87c"
      },
      "execution_count": 22,
      "outputs": [
        {
          "output_type": "stream",
          "name": "stdout",
          "text": [
            "   Number of Publications    Year\n",
            "0                    1200  2017.0\n",
            "1                    1500  2018.0\n",
            "2                    2100  2019.0\n",
            "3                    4060  2020.0\n",
            "4                    6820  2021.0\n",
            "5                    1820  2022.0\n",
            "AxesSubplot(0.125,0.125;0.775x0.755)\n"
          ]
        },
        {
          "output_type": "display_data",
          "data": {
            "text/plain": [
              "<Figure size 720x360 with 1 Axes>"
            ],
            "image/png": "[encoded data removed]"
          },
          "metadata": {
            "needs_background": "light"
          }
        }
      ]
    },
    {
      "cell_type": "code",
      "source": [
        ""
      ],
      "metadata": {
        "id": "M3jkJL1mwFS4"
      },
      "execution_count": null,
      "outputs": []
    }
  ]
}