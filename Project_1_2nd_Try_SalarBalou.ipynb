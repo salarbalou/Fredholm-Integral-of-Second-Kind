{
  "nbformat": 4,
  "nbformat_minor": 0,
  "metadata": {
    "colab": {
      "name": "Project 1_2nd_Try_SalarBalou.ipynb",
      "provenance": [],
      "collapsed_sections": [],
      "authorship_tag": "ABX9TyN8b0pe0f7wnVIuL5jBidMJ",
      "include_colab_link": true
    },
    "kernelspec": {
      "name": "python3",
      "display_name": "Python 3"
    },
    "language_info": {
      "name": "python"
    }
  },
  "cells": [
    {
      "cell_type": "markdown",
      "metadata": {
        "id": "view-in-github",
        "colab_type": "text"
      },
      "source": [
        "<a href=\"https://colab.research.google.com/github/salarbalou/Fredholm-Integral-of-Second-Kind/blob/main/Project_1_2nd_Try_SalarBalou.ipynb\" target=\"_parent\"><img src=\"https://colab.research.google.com/assets/colab-badge.svg\" alt=\"Open In Colab\"/></a>"
      ]
    },
    {
      "cell_type": "code",
      "execution_count": 379,
      "metadata": {
        "id": "y1VtPD_WTeol"
      },
      "outputs": [],
      "source": [
        "import jax.numpy as jnp\n",
        "import numpy as np\n",
        "import scipy as sc\n",
        "import matplotlib.pyplot as plt\n",
        "import scipy.integrate as intg\n",
        "import scipy.optimize as opt\n",
        "import scipy.linalg as sla"
      ]
    },
    {
      "cell_type": "code",
      "source": [
        "a, b = 0, 1\n",
        "l = 1\n",
        "f = lambda x: np.sin(x)\n",
        "k = lambda x, t: 1  - (x*(np.cos(x*t)))"
      ],
      "metadata": {
        "id": "Xymx9802Tprc"
      },
      "execution_count": 380,
      "outputs": []
    },
    {
      "cell_type": "code",
      "source": [
        "n = 3\n",
        "h = (b-a)/(n-1)\n",
        "xl = np.linspace(a, b, n)\n",
        "tl = np.linspace(a, b, n)\n",
        "\n",
        "fi = np.array([f(x) for x in xl])\n",
        "kij = np.reshape(np.array([k(x, t) for x in xl for t in tl]), ((n, n)))"
      ],
      "metadata": {
        "id": "dzzuqjUAwxem"
      },
      "execution_count": 381,
      "outputs": []
    },
    {
      "cell_type": "code",
      "source": [
        "K = np.zeros((n, n))\n",
        "\n",
        "K[0, 0] = 1 - (l*(h/2)* kij[0, 0])\n",
        "K[0, 1:-1] = - l * h * kij[0, 1:-1]\n",
        "K[0:-1, -1] = - l * (h/2) * kij[0, -1]\n",
        "\n",
        "K[1::, 0] = - l * (h/2) * kij[1::, 0]\n",
        "\n",
        "K[1, 1:-1] = 1 - (l * (h) * kij[1, 1:-1])\n",
        "K[1, -1] = - l * (h/2) * kij[1, -1]\n",
        "\n",
        "K[2::, 0] = - l * (h/2) * kij[2::, 0]\n",
        "K[2, 1:-1] = - (l * (h) * kij[2, 1:-1])\n",
        "K[2, -1] = 1 - l * (h/2) * kij[2, -1]\n",
        "\n",
        "sol = sla.solve(K, fi)"
      ],
      "metadata": {
        "id": "FoS6J2fFFC5i"
      },
      "execution_count": 382,
      "outputs": []
    },
    {
      "cell_type": "code",
      "source": [
        "plt.plot(xl, sol)"
      ],
      "metadata": {
        "colab": {
          "base_uri": "https://localhost:8080/",
          "height": 282
        },
        "id": "VptGAIgRJkYV",
        "outputId": "a8b37698-493c-4842-dbf3-7a206ef7a41d"
      },
      "execution_count": 384,
      "outputs": [
        {
          "output_type": "execute_result",
          "data": {
            "text/plain": [
              "[<matplotlib.lines.Line2D at 0x7f8bd3c82a90>]"
            ]
          },
          "metadata": {},
          "execution_count": 384
        },
        {
          "output_type": "display_data",
          "data": {
            "text/plain": [
              "<Figure size 432x288 with 1 Axes>"
            ],
            "image/png": "[encoded data removed]"
          },
          "metadata": {
            "needs_background": "light"
          }
        }
      ]
    },
    {
      "cell_type": "code",
      "source": [
        ""
      ],
      "metadata": {
        "id": "igEHGkribb20"
      },
      "execution_count": null,
      "outputs": []
    }
  ]
}