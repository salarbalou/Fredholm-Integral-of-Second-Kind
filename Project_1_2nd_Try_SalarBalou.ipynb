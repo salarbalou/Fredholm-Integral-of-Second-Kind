{
  "nbformat": 4,
  "nbformat_minor": 0,
  "metadata": {
    "colab": {
      "name": "Project 1_2nd_Try_SalarBalou.ipynb",
      "provenance": [],
      "collapsed_sections": [],
      "authorship_tag": "ABX9TyPZZoOkkic1gbroTuVRKd/H",
      "include_colab_link": true
    },
    "kernelspec": {
      "name": "python3",
      "display_name": "Python 3"
    },
    "language_info": {
      "name": "python"
    }
  },
  "cells": [
    {
      "cell_type": "markdown",
      "metadata": {
        "id": "view-in-github",
        "colab_type": "text"
      },
      "source": [
        "<a href=\"https://colab.research.google.com/github/salarbalou/Fredholm-Integral-of-Second-Kind/blob/main/Project_1_2nd_Try_SalarBalou.ipynb\" target=\"_parent\"><img src=\"https://colab.research.google.com/assets/colab-badge.svg\" alt=\"Open In Colab\"/></a>"
      ]
    },
    {
      "cell_type": "code",
      "execution_count": 1,
      "metadata": {
        "id": "y1VtPD_WTeol"
      },
      "outputs": [],
      "source": [
        "import numpy as np\n",
        "import matplotlib.pyplot as plt\n",
        "import scipy.linalg as sla\n",
        "\n",
        "def FIE2_Nystrom (k, f, l, a, b):\n",
        " n = 1000\n",
        " h, xl, yl = (b-a)/(n-1) , np.linspace(a, b, n) , np.linspace(a, b, n)\n",
        " fi = np.array([f(x) for x in xl]); kij = np.reshape(np.array([k(x, y) for x in xl for y in yl]), ((n, n)))\n",
        " K = np.zeros((n, n)); K = - l * (h) * kij\n",
        " for i in range(n):\n",
        "   K[i, i] = 1 - l * (h/2) * kij[i, i]\n",
        " K[1:, 0] = - l * (h/2) * kij[1:, 0] ; K[0:-1, -1] = - l * (h/2) * kij[0:-1:, -1]\n",
        " sol = sla.solve(l * K, fi)\n",
        " return(plt.plot(xl, sol))"
      ]
    },
    {
      "cell_type": "code",
      "source": [
        "a, b = -1, 1\n",
        "l = 45/8\n",
        "f = lambda x: ((x+2) * (2*x-1))/2\n",
        "k = lambda x, y: x* y*2"
      ],
      "metadata": {
        "id": "Xymx9802Tprc"
      },
      "execution_count": 11,
      "outputs": []
    },
    {
      "cell_type": "code",
      "source": [
        "FIE2_Nystrom(k, f, l, a, b)"
      ],
      "metadata": {
        "colab": {
          "base_uri": "https://localhost:8080/",
          "height": 284
        },
        "id": "VptGAIgRJkYV",
        "outputId": "3def6a84-60e9-4963-be86-2dfa65d4b36b"
      },
      "execution_count": 12,
      "outputs": [
        {
          "output_type": "execute_result",
          "data": {
            "text/plain": [
              "[<matplotlib.lines.Line2D at 0x7fcbeb748190>]"
            ]
          },
          "metadata": {},
          "execution_count": 12
        },
        {
          "output_type": "display_data",
          "data": {
            "text/plain": [
              "<Figure size 432x288 with 1 Axes>"
            ],
            "image/png": "[encoded data removed]"
          },
          "metadata": {
            "needs_background": "light"
          }
        }
      ]
    },
    {
      "cell_type": "code",
      "source": [
        ""
      ],
      "metadata": {
        "id": "PlqE2mfDU1Bj"
      },
      "execution_count": null,
      "outputs": []
    }
  ]
}